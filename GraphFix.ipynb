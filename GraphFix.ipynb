{
  "nbformat": 4,
  "nbformat_minor": 0,
  "metadata": {
    "colab": {
      "name": "GraphFix.ipynb",
      "provenance": [],
      "collapsed_sections": []
    },
    "kernelspec": {
      "name": "python3",
      "display_name": "Python 3"
    }
  },
  "cells": [
    {
      "cell_type": "code",
      "metadata": {
        "id": "sIdzJqTbQzpy",
        "colab": {
          "base_uri": "https://localhost:8080/"
        },
        "outputId": "fe8f0333-03db-4e41-cb40-745b0081a061"
      },
      "source": [
        "from google.colab import drive\r\n",
        "drive.mount('/content/drive')"
      ],
      "execution_count": 28,
      "outputs": [
        {
          "output_type": "stream",
          "text": [
            "Drive already mounted at /content/drive; to attempt to forcibly remount, call drive.mount(\"/content/drive\", force_remount=True).\n"
          ],
          "name": "stdout"
        }
      ]
    },
    {
      "cell_type": "code",
      "metadata": {
        "id": "J4OTYmHdRHwI"
      },
      "source": [
        "import matplotlib.pyplot as plt\r\n",
        "import seaborn as sns\r\n",
        "import pandas as pd\r\n",
        "import numpy as np"
      ],
      "execution_count": 29,
      "outputs": []
    },
    {
      "cell_type": "code",
      "metadata": {
        "id": "mCnbk0RCRT1o",
        "colab": {
          "base_uri": "https://localhost:8080/",
          "height": 610
        },
        "outputId": "be3b5468-1aa4-4af5-ccc7-118db1e0f1f1"
      },
      "source": [
        "# Keep in mind that the filename will likely be different on your computer (especially later in course)\r\n",
        "filename = '/content/drive/MyDrive/DS-CodingDojoColab/Week3/PizzaWeek.xlsx'\r\n",
        "df = pd.read_excel(filename)\r\n",
        "df\r\n"
      ],
      "execution_count": 30,
      "outputs": [
        {
          "output_type": "execute_result",
          "data": {
            "text/html": [
              "<div>\n",
              "<style scoped>\n",
              "    .dataframe tbody tr th:only-of-type {\n",
              "        vertical-align: middle;\n",
              "    }\n",
              "\n",
              "    .dataframe tbody tr th {\n",
              "        vertical-align: top;\n",
              "    }\n",
              "\n",
              "    .dataframe thead th {\n",
              "        text-align: right;\n",
              "    }\n",
              "</style>\n",
              "<table border=\"1\" class=\"dataframe\">\n",
              "  <thead>\n",
              "    <tr style=\"text-align: right;\">\n",
              "      <th></th>\n",
              "      <th>Topping</th>\n",
              "      <th>Total</th>\n",
              "      <th>Male</th>\n",
              "      <th>Female</th>\n",
              "    </tr>\n",
              "  </thead>\n",
              "  <tbody>\n",
              "    <tr>\n",
              "      <th>0</th>\n",
              "      <td>Mushrooms</td>\n",
              "      <td>65</td>\n",
              "      <td>63</td>\n",
              "      <td>68</td>\n",
              "    </tr>\n",
              "    <tr>\n",
              "      <th>1</th>\n",
              "      <td>Onion</td>\n",
              "      <td>62</td>\n",
              "      <td>62</td>\n",
              "      <td>63</td>\n",
              "    </tr>\n",
              "    <tr>\n",
              "      <th>2</th>\n",
              "      <td>Ham</td>\n",
              "      <td>61</td>\n",
              "      <td>66</td>\n",
              "      <td>56</td>\n",
              "    </tr>\n",
              "    <tr>\n",
              "      <th>3</th>\n",
              "      <td>Peppers</td>\n",
              "      <td>60</td>\n",
              "      <td>63</td>\n",
              "      <td>57</td>\n",
              "    </tr>\n",
              "    <tr>\n",
              "      <th>4</th>\n",
              "      <td>Chicken</td>\n",
              "      <td>56</td>\n",
              "      <td>60</td>\n",
              "      <td>52</td>\n",
              "    </tr>\n",
              "    <tr>\n",
              "      <th>5</th>\n",
              "      <td>Pepperoni</td>\n",
              "      <td>56</td>\n",
              "      <td>66</td>\n",
              "      <td>46</td>\n",
              "    </tr>\n",
              "    <tr>\n",
              "      <th>6</th>\n",
              "      <td>Tomato</td>\n",
              "      <td>51</td>\n",
              "      <td>49</td>\n",
              "      <td>54</td>\n",
              "    </tr>\n",
              "    <tr>\n",
              "      <th>7</th>\n",
              "      <td>Bacon</td>\n",
              "      <td>49</td>\n",
              "      <td>56</td>\n",
              "      <td>43</td>\n",
              "    </tr>\n",
              "    <tr>\n",
              "      <th>8</th>\n",
              "      <td>Pineapple</td>\n",
              "      <td>42</td>\n",
              "      <td>40</td>\n",
              "      <td>44</td>\n",
              "    </tr>\n",
              "    <tr>\n",
              "      <th>9</th>\n",
              "      <td>Sweetcorn</td>\n",
              "      <td>42</td>\n",
              "      <td>38</td>\n",
              "      <td>46</td>\n",
              "    </tr>\n",
              "    <tr>\n",
              "      <th>10</th>\n",
              "      <td>Beef</td>\n",
              "      <td>36</td>\n",
              "      <td>47</td>\n",
              "      <td>26</td>\n",
              "    </tr>\n",
              "    <tr>\n",
              "      <th>11</th>\n",
              "      <td>Olives</td>\n",
              "      <td>33</td>\n",
              "      <td>33</td>\n",
              "      <td>32</td>\n",
              "    </tr>\n",
              "    <tr>\n",
              "      <th>12</th>\n",
              "      <td>Chillies</td>\n",
              "      <td>31</td>\n",
              "      <td>42</td>\n",
              "      <td>22</td>\n",
              "    </tr>\n",
              "    <tr>\n",
              "      <th>13</th>\n",
              "      <td>Jalapenos</td>\n",
              "      <td>30</td>\n",
              "      <td>39</td>\n",
              "      <td>21</td>\n",
              "    </tr>\n",
              "    <tr>\n",
              "      <th>14</th>\n",
              "      <td>Spinach</td>\n",
              "      <td>26</td>\n",
              "      <td>20</td>\n",
              "      <td>32</td>\n",
              "    </tr>\n",
              "    <tr>\n",
              "      <th>15</th>\n",
              "      <td>Pork</td>\n",
              "      <td>25</td>\n",
              "      <td>34</td>\n",
              "      <td>17</td>\n",
              "    </tr>\n",
              "    <tr>\n",
              "      <th>16</th>\n",
              "      <td>Tuna</td>\n",
              "      <td>22</td>\n",
              "      <td>23</td>\n",
              "      <td>21</td>\n",
              "    </tr>\n",
              "    <tr>\n",
              "      <th>17</th>\n",
              "      <td>Anchovies</td>\n",
              "      <td>18</td>\n",
              "      <td>21</td>\n",
              "      <td>15</td>\n",
              "    </tr>\n",
              "    <tr>\n",
              "      <th>18</th>\n",
              "      <td>Something else</td>\n",
              "      <td>11</td>\n",
              "      <td>12</td>\n",
              "      <td>10</td>\n",
              "    </tr>\n",
              "  </tbody>\n",
              "</table>\n",
              "</div>"
            ],
            "text/plain": [
              "           Topping  Total  Male  Female\n",
              "0        Mushrooms     65    63      68\n",
              "1            Onion     62    62      63\n",
              "2              Ham     61    66      56\n",
              "3          Peppers     60    63      57\n",
              "4          Chicken     56    60      52\n",
              "5        Pepperoni     56    66      46\n",
              "6           Tomato     51    49      54\n",
              "7            Bacon     49    56      43\n",
              "8        Pineapple     42    40      44\n",
              "9        Sweetcorn     42    38      46\n",
              "10            Beef     36    47      26\n",
              "11          Olives     33    33      32\n",
              "12        Chillies     31    42      22\n",
              "13       Jalapenos     30    39      21\n",
              "14         Spinach     26    20      32\n",
              "15            Pork     25    34      17\n",
              "16            Tuna     22    23      21\n",
              "17       Anchovies     18    21      15\n",
              "18  Something else     11    12      10"
            ]
          },
          "metadata": {
            "tags": []
          },
          "execution_count": 30
        }
      ]
    },
    {
      "cell_type": "code",
      "metadata": {
        "colab": {
          "base_uri": "https://localhost:8080/",
          "height": 195
        },
        "id": "LYotUGYu-oEN",
        "outputId": "5c50970b-29c3-45c3-9c21-4d0f8db84b5b"
      },
      "source": [
        "popular = df[['Topping','Total']]\r\n",
        "popular.head()"
      ],
      "execution_count": 57,
      "outputs": [
        {
          "output_type": "execute_result",
          "data": {
            "text/html": [
              "<div>\n",
              "<style scoped>\n",
              "    .dataframe tbody tr th:only-of-type {\n",
              "        vertical-align: middle;\n",
              "    }\n",
              "\n",
              "    .dataframe tbody tr th {\n",
              "        vertical-align: top;\n",
              "    }\n",
              "\n",
              "    .dataframe thead th {\n",
              "        text-align: right;\n",
              "    }\n",
              "</style>\n",
              "<table border=\"1\" class=\"dataframe\">\n",
              "  <thead>\n",
              "    <tr style=\"text-align: right;\">\n",
              "      <th></th>\n",
              "      <th>Topping</th>\n",
              "      <th>Total</th>\n",
              "    </tr>\n",
              "  </thead>\n",
              "  <tbody>\n",
              "    <tr>\n",
              "      <th>0</th>\n",
              "      <td>Mushrooms</td>\n",
              "      <td>65</td>\n",
              "    </tr>\n",
              "    <tr>\n",
              "      <th>1</th>\n",
              "      <td>Onion</td>\n",
              "      <td>62</td>\n",
              "    </tr>\n",
              "    <tr>\n",
              "      <th>2</th>\n",
              "      <td>Ham</td>\n",
              "      <td>61</td>\n",
              "    </tr>\n",
              "    <tr>\n",
              "      <th>3</th>\n",
              "      <td>Peppers</td>\n",
              "      <td>60</td>\n",
              "    </tr>\n",
              "    <tr>\n",
              "      <th>4</th>\n",
              "      <td>Chicken</td>\n",
              "      <td>56</td>\n",
              "    </tr>\n",
              "  </tbody>\n",
              "</table>\n",
              "</div>"
            ],
            "text/plain": [
              "     Topping  Total\n",
              "0  Mushrooms     65\n",
              "1      Onion     62\n",
              "2        Ham     61\n",
              "3    Peppers     60\n",
              "4    Chicken     56"
            ]
          },
          "metadata": {
            "tags": []
          },
          "execution_count": 57
        }
      ]
    },
    {
      "cell_type": "code",
      "metadata": {
        "colab": {
          "base_uri": "https://localhost:8080/",
          "height": 417
        },
        "id": "O4w3wm4ouRu_",
        "outputId": "ab447a40-48bf-4bc3-f955-9179da9fa87b"
      },
      "source": [
        "plt.figure(figsize=(10,6))\r\n",
        "plt.barh(popular['Topping'], popular['Total'].sort_values(ascending=False), color='red')\r\n",
        "plt.title('Most Popular Pizza Toppings in the UK', fontsize=20)\r\n",
        "plt.xlabel('% of People who like the Topping', fontsize = 16)\r\n",
        "plt.ylabel('Topping Type', fontsize = 16)\r\n",
        "plt.xticks(fontsize=12)\r\n",
        "plt.yticks(fontsize=12)\r\n",
        "plt.savefig('/content/drive/MyDrive/DS-CodingDojoColab/Week3PopularToppings.png', dpi = 300)\r\n",
        "#plt.tight_layout\r\n",
        "#For some reason I just cannot figure out how to sort the toppings with the most popular ones at the top"
      ],
      "execution_count": 84,
      "outputs": [
        {
          "output_type": "display_data",
          "data": {
            "image/png": "[encoded data removed]",
            "text/plain": [
              "<Figure size 720x432 with 1 Axes>"
            ]
          },
          "metadata": {
            "tags": [],
            "needs_background": "light"
          }
        }
      ]
    },
    {
      "cell_type": "code",
      "metadata": {
        "id": "GKrrP2dt3jST"
      },
      "source": [
        ""
      ],
      "execution_count": 14,
      "outputs": []
    }
  ]
}